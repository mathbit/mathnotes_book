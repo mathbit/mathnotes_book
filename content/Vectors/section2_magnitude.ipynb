{
 "cells": [
  {
   "cell_type": "markdown",
   "metadata": {},
   "source": [
    "## The magnitude of a vector\n",
    "---\n",
    "\n",
    "The __magnitude__ of a vector $\\vec u$, written $\\vert \\vec{u} \\vert$, is the *length of the arrow* that this vector represents. \n",
    "\n",
    "<img src=\"./pics/length.png\" width=\"20%\" align=\"center\">\n",
    "\n",
    "If the vector has the components \n",
    "\n",
    "$$\\vec{u} =\\left(\\begin{array}{r} x\\\\y\\\\z \\end{array}\\right)$$ \n",
    "\n",
    "we can apply the theorem of Pythagoras twice to find the following formula for the magnitude: \n",
    "\n",
    "$$\\boxed{|\\vec u| = \\sqrt{x²+y²+z²}}$$ \n",
    "\n",
    "A more detailed derivation of this formula is given in the figure below, for the vector with the components \n",
    "\n",
    "$$\\vec{u} =\\left(\\begin{array}{r} 3\\\\4\\\\5 \\end{array}\\right)$$ \n",
    "\n",
    "In this case, the magnitude is $$\\vert \\vec{u}\\vert = \\sqrt{3²+4²+5²}=\\sqrt{50}=7.071...$$\n",
    "\n",
    "<img src=\"./pics/magnitude.png\" width=\"70%\" align=\"center\">"
   ]
  },
  {
   "cell_type": "markdown",
   "metadata": {},
   "source": [
    "## Exercise\n",
    "---\n",
    "\n",
    "1. Determine the magnitude of the vectors $$\\vec{w}=\\left(\\begin{array}{r} -1\\\\1\\\\-1 \\end{array}\\right)$$ and $$\\vec{s}=\\left(\\begin{array}{r} 1.5\\\\0\\\\-2 \\end{array}\\right)$$\n",
    "\n",
    "2. Vector $\\vec{u}$ has the $x$-component $2$ and the $y$-component $-3$. Determine the $z$-component such that the magnitude of the vector is $32$ .\n",
    "\n",
    "3. Determine the distance between the points $A(2 \\vert 1\\vert 0)$  and $B(-7 \\vert 2 \\vert 5 )$. "
   ]
  },
  {
   "cell_type": "markdown",
   "metadata": {
    "tags": [
     "hide_input"
    ]
   },
   "source": [
    "## Solutions\n",
    "---\n",
    "\n",
    "1. $\\vert \\vec{w}\\vert =\\sqrt{3}, \\vert \\vec{s}\\vert =\\sqrt{6.25}=2.5$\n",
    "\n",
    "2. $\\vert \\vec{w}\\vert =\\sqrt{2^2+(-3)^2+z^2}=32 \\rightarrow 2^2+(-3)^2+z^2=32^2=1024 \\rightarrow z=\\sqrt{1011}=31.796...$\n",
    "\n",
    "3. The arrow from $A$ to $B$ has the components $$\\overrightarrow{AB}=\\left(\\begin{array}{r} -9\\\\1\\\\5 \\end{array}\\right)$$. The distance between $A$ and $B$ is the length of this arrow: $$\\vert \\overrightarrow{AB}\\vert =\\sqrt{(-9)^2+1^2+5^2}=\\sqrt{107}$$."
   ]
  },
  {
   "cell_type": "code",
   "execution_count": 8,
   "metadata": {
    "tags": [
     "remove_cell"
    ]
   },
   "outputs": [
    {
     "data": {
      "text/html": [
       "<style>\n",
       "    @font-face {\n",
       "        font-family: \"Computer Modern\";\n",
       "        src: url('http://9dbb143991406a7c655e-aa5fcb0a5a4ec34cff238a2d56ca4144.r56.cf5.rackcdn.com/cmunss.otf');\n",
       "    }\n",
       "    @font-face {\n",
       "        font-family: \"Computer Modern\";\n",
       "        font-weight: bold;\n",
       "        src: url('http://9dbb143991406a7c655e-aa5fcb0a5a4ec34cff238a2d56ca4144.r56.cf5.rackcdn.com/cmunsx.otf');\n",
       "    }\n",
       "    @font-face {\n",
       "        font-family: \"Computer Modern\";\n",
       "        font-style: oblique;\n",
       "        src: url('http://9dbb143991406a7c655e-aa5fcb0a5a4ec34cff238a2d56ca4144.r56.cf5.rackcdn.com/cmunsi.otf');\n",
       "    }\n",
       "    @font-face {\n",
       "        font-family: \"Computer Modern\";\n",
       "        font-weight: bold;\n",
       "        font-style: oblique;\n",
       "        src: url('http://9dbb143991406a7c655e-aa5fcb0a5a4ec34cff238a2d56ca4144.r56.cf5.rackcdn.com/cmunso.otf');\n",
       "    }\n",
       "    div.cell{\n",
       "        width:800px;\n",
       "        margin-left:16% !important;\n",
       "        margin-right:auto;\n",
       "    }\n",
       "    h1 {\n",
       "        font-family: Helvetica, serif;\n",
       "    }\n",
       "    h2 {\n",
       "        font-family: Helvetica, sans-serif;\n",
       "\tcolor: blue\n",
       "    }\n",
       "    h3 {\n",
       "        \n",
       "\tcolor: gray\n",
       "    }\n",
       "    h4{\n",
       "        margin-top:12px;\n",
       "        margin-bottom: 3px;\n",
       "       }\n",
       "    div.text_cell_render{\n",
       "        font-family: Computer Modern, serif;\n",
       "        line-height: 145%;\n",
       "        font-size: 130%;\n",
       "        width:800px;\n",
       "        margin-left:auto;\n",
       "        margin-right:auto;\n",
       "    }\n",
       "    .CodeMirror{\n",
       "            font-family: \"Source Code Pro\", source-code-pro,Consolas, monospace;\n",
       "    }\n",
       "    .prompt{\n",
       "        display: None;\n",
       "    }\n",
       "    .text_cell_render h5 {\n",
       "        font-weight: 300;\n",
       "        font-size: 22pt;\n",
       "        color: #4057A1;\n",
       "        font-style: italic;\n",
       "        margin-bottom: .5em;\n",
       "        margin-top: 0.5em;\n",
       "        display: block;\n",
       "    }\n",
       "    \n",
       "    .warning{\n",
       "        color: rgb( 240, 20, 20 )\n",
       "        }\n",
       "  \n",
       "    .MathJax {\n",
       "        font-size: 0.9em;\n",
       "    }\n",
       "\n",
       "    div.important {    \n",
       "       background-color: #fcf2f2;\n",
       "       border-color: #dFb5b4;\n",
       "       border-left: 5px solid #dfb5b4;\n",
       "       padding: 0.5em;\n",
       "    }\n",
       "\n",
       "    div.exc {    \n",
       "       background-color: lightgray;\n",
       "       border-color: lightgray;\n",
       "       border-left: 5px solid gray;\n",
       "       padding: 0.5em;\n",
       "    }\n",
       "\n",
       "    div.sol {    \n",
       "       background-color: lightgray;\n",
       "       border-color: lightgray;\n",
       "       border-left: 5px solid gray;\n",
       "       padding: 0.5em;\n",
       "    }\n",
       "\n",
       "</style>\n",
       "<script>\n",
       "    MathJax.Hub.Config({\n",
       "                        TeX: {\n",
       "                           extensions: [\"AMSmath.js\"]\n",
       "                           },\n",
       "                tex2jax: {\n",
       "                    inlineMath: [ ['$','$'], [\"\\\\(\",\"\\\\)\"] ],\n",
       "                    displayMath: [ ['$$','$$'], [\"\\\\[\",\"\\\\]\"] ]\n",
       "                },\n",
       "                displayAlign: 'center', // Change this to 'center' to center equations.\n",
       "                \"HTML-CSS\": {\n",
       "                    styles: {'.MathJax_Display': {\"margin\": 4}}\n",
       "                },\n",
       "        });\n",
       "</script>\n"
      ],
      "text/plain": [
       "<IPython.core.display.HTML object>"
      ]
     },
     "execution_count": 8,
     "metadata": {},
     "output_type": "execute_result"
    }
   ],
   "source": [
    "#needs to be in the last cell for css styling\n",
    "from IPython.core.display import HTML\n",
    "def css_styling():\n",
    "    styles = open(\"../styles/custom.css\", \"r\").read()\n",
    "    return HTML(styles)\n",
    "css_styling()"
   ]
  },
  {
   "cell_type": "code",
   "execution_count": null,
   "metadata": {},
   "outputs": [],
   "source": []
  }
 ],
 "metadata": {
  "celltoolbar": "Tags",
  "hide_input": false,
  "kernelspec": {
   "display_name": "Python 3",
   "language": "python",
   "name": "python3"
  },
  "language_info": {
   "codemirror_mode": {
    "name": "ipython",
    "version": 3
   },
   "file_extension": ".py",
   "mimetype": "text/x-python",
   "name": "python",
   "nbconvert_exporter": "python",
   "pygments_lexer": "ipython3",
   "version": "3.7.3"
  },
  "latex_envs": {
   "LaTeX_envs_menu_present": true,
   "autoclose": false,
   "autocomplete": true,
   "bibliofile": "biblio.bib",
   "cite_by": "apalike",
   "current_citInitial": 1,
   "eqLabelWithNumbers": true,
   "eqNumInitial": 1,
   "hotkeys": {
    "equation": "Ctrl-E",
    "itemize": "Ctrl-I"
   },
   "labels_anchors": false,
   "latex_user_defs": false,
   "report_style_numbering": false,
   "user_envs_cfg": false
  }
 },
 "nbformat": 4,
 "nbformat_minor": 2
}
