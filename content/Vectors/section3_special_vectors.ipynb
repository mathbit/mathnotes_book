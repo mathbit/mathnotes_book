{
 "cells": [
  {
   "cell_type": "markdown",
   "metadata": {},
   "source": [
    "## Three special vectors\n",
    "---\n",
    "1. The __zero vector__ is the vector with the components $$\\left(\\begin{array}{r} 0\\\\0\\\\0 \\end{array}\\right)$$. Moving from head to tail along the zero-vector means moving not at all, as the tail and head occupy the same location. Clearly, the magnitude of the zero vector is $0$.\n",
    "\n",
    "2. A __unit vector__ is a vector of magnitude $1$. \n",
    "\n",
    "3. Consider a vector \n",
    "\n",
    "$$\\vec{u}=\\left(\\begin{array}{r} x\\\\y\\\\z \\end{array}\\right)$$ \n",
    "\n",
    "The __opposite vector__ of $\\vec{u}$, written $-\\vec{u}$, has the components \n",
    "\n",
    "$$-\\vec{u}=\\left(\\begin{array}{r} -x\\\\-y\\\\-z \\end{array}\\right)$$ \n",
    "\n",
    "Clearly, the components of the opposite vector of $\\vec u$ describe how to get from the head to the tail of the arrow represented by $\\vec u$.\n",
    "<img src=\"./pics/opposite.png\" width=\"35%\" align=\"center\">"
   ]
  },
  {
   "cell_type": "markdown",
   "metadata": {},
   "source": [
    "## Exercise\n",
    "---\n",
    "\n",
    "1. Determine the opposite vector of $$\\vec{v}=\\left(\\begin{array}{r} -2\\\\2\\\\-3 \\end{array}\\right)$$.\n",
    "\t\t\n",
    "2. Determine the magnitude of the zero vector. How many other vectors of magnitude $0$ do exist?\n",
    "\n",
    "3. Determine a unit vector with at least $2$ non-zero components. How many unit vectors exist? If you attach the arrow of all these vectors to the origin, what geometrical object is formed by the arrow heads?\n",
    "\n",
    "4. Consider the points $A(0 \\vert 5 \\vert 3)$ and $B(0 \\vert 2 \\vert 5)$. Reflect $B$ about $A$. What are the coordinates of the reflected point $B$ ? Hint: draw a figure.\n",
    "\n",
    "5. Consider the points $A(2 \\vert 5 \\vert 3)$ and $B(-4 \\vert 2 \\vert 10)$. Reflect $B$ about $A$. What are the coordinates of the reflected point $B$ ?\n",
    "\n",
    "6. Which of these arrows in the yz-plane are described by the opposite vector of $\\vec{a}$ Also, determine the components of $\\vec{a}$ and $-\\vec{a}$. \n",
    "<img src=\"./pics/whichAreOpposite.png\" width=\"50%\" align=\"center\">"
   ]
  },
  {
   "cell_type": "markdown",
   "metadata": {},
   "source": [
    "## Solutions\n",
    "---\n",
    "\n",
    "<img src=\"./pics/sol_opposite.png\" width=\"85%\" align=\"left\">\n",
    "<br>"
   ]
  },
  {
   "cell_type": "code",
   "execution_count": 11,
   "metadata": {
    "tags": [
     "remove_cell"
    ]
   },
   "outputs": [
    {
     "data": {
      "text/html": [
       "<style>\n",
       "    @font-face {\n",
       "        font-family: \"Computer Modern\";\n",
       "        src: url('http://9dbb143991406a7c655e-aa5fcb0a5a4ec34cff238a2d56ca4144.r56.cf5.rackcdn.com/cmunss.otf');\n",
       "    }\n",
       "    @font-face {\n",
       "        font-family: \"Computer Modern\";\n",
       "        font-weight: bold;\n",
       "        src: url('http://9dbb143991406a7c655e-aa5fcb0a5a4ec34cff238a2d56ca4144.r56.cf5.rackcdn.com/cmunsx.otf');\n",
       "    }\n",
       "    @font-face {\n",
       "        font-family: \"Computer Modern\";\n",
       "        font-style: oblique;\n",
       "        src: url('http://9dbb143991406a7c655e-aa5fcb0a5a4ec34cff238a2d56ca4144.r56.cf5.rackcdn.com/cmunsi.otf');\n",
       "    }\n",
       "    @font-face {\n",
       "        font-family: \"Computer Modern\";\n",
       "        font-weight: bold;\n",
       "        font-style: oblique;\n",
       "        src: url('http://9dbb143991406a7c655e-aa5fcb0a5a4ec34cff238a2d56ca4144.r56.cf5.rackcdn.com/cmunso.otf');\n",
       "    }\n",
       "    div.cell{\n",
       "        width:800px;\n",
       "        margin-left:16% !important;\n",
       "        margin-right:auto;\n",
       "    }\n",
       "    h1 {\n",
       "        font-family: Helvetica, serif;\n",
       "    }\n",
       "    h2 {\n",
       "        font-family: Helvetica, sans-serif;\n",
       "\tcolor: blue\n",
       "    }\n",
       "    h3 {\n",
       "        \n",
       "\tcolor: gray\n",
       "    }\n",
       "    h4{\n",
       "        margin-top:12px;\n",
       "        margin-bottom: 3px;\n",
       "       }\n",
       "    div.text_cell_render{\n",
       "        font-family: Computer Modern, serif;\n",
       "        line-height: 145%;\n",
       "        font-size: 130%;\n",
       "        width:800px;\n",
       "        margin-left:auto;\n",
       "        margin-right:auto;\n",
       "    }\n",
       "    .CodeMirror{\n",
       "            font-family: \"Source Code Pro\", source-code-pro,Consolas, monospace;\n",
       "    }\n",
       "    .prompt{\n",
       "        display: None;\n",
       "    }\n",
       "    .text_cell_render h5 {\n",
       "        font-weight: 300;\n",
       "        font-size: 22pt;\n",
       "        color: #4057A1;\n",
       "        font-style: italic;\n",
       "        margin-bottom: .5em;\n",
       "        margin-top: 0.5em;\n",
       "        display: block;\n",
       "    }\n",
       "    \n",
       "    .warning{\n",
       "        color: rgb( 240, 20, 20 )\n",
       "        }\n",
       "  \n",
       "    .MathJax {\n",
       "        font-size: 0.9em;\n",
       "    }\n",
       "\n",
       "    div.important {    \n",
       "       background-color: #fcf2f2;\n",
       "       border-color: #dFb5b4;\n",
       "       border-left: 5px solid #dfb5b4;\n",
       "       padding: 0.5em;\n",
       "    }\n",
       "\n",
       "    div.exc {    \n",
       "       background-color: lightgray;\n",
       "       border-color: lightgray;\n",
       "       border-left: 5px solid gray;\n",
       "       padding: 0.5em;\n",
       "    }\n",
       "\n",
       "    div.sol {    \n",
       "       background-color: lightgray;\n",
       "       border-color: lightgray;\n",
       "       border-left: 5px solid gray;\n",
       "       padding: 0.5em;\n",
       "    }\n",
       "\n",
       "</style>\n",
       "<script>\n",
       "    MathJax.Hub.Config({\n",
       "                        TeX: {\n",
       "                           extensions: [\"AMSmath.js\"]\n",
       "                           },\n",
       "                tex2jax: {\n",
       "                    inlineMath: [ ['$','$'], [\"\\\\(\",\"\\\\)\"] ],\n",
       "                    displayMath: [ ['$$','$$'], [\"\\\\[\",\"\\\\]\"] ]\n",
       "                },\n",
       "                displayAlign: 'center', // Change this to 'center' to center equations.\n",
       "                \"HTML-CSS\": {\n",
       "                    styles: {'.MathJax_Display': {\"margin\": 4}}\n",
       "                },\n",
       "        });\n",
       "</script>\n"
      ],
      "text/plain": [
       "<IPython.core.display.HTML object>"
      ]
     },
     "execution_count": 11,
     "metadata": {},
     "output_type": "execute_result"
    }
   ],
   "source": [
    "#needs to be in the last cell for css styling\n",
    "from IPython.core.display import HTML\n",
    "def css_styling():\n",
    "    styles = open(\"../styles/custom.css\", \"r\").read()\n",
    "    return HTML(styles)\n",
    "css_styling()"
   ]
  },
  {
   "cell_type": "code",
   "execution_count": null,
   "metadata": {},
   "outputs": [],
   "source": []
  }
 ],
 "metadata": {
  "celltoolbar": "Tags",
  "hide_input": false,
  "kernelspec": {
   "display_name": "Python 3",
   "language": "python",
   "name": "python3"
  },
  "language_info": {
   "codemirror_mode": {
    "name": "ipython",
    "version": 3
   },
   "file_extension": ".py",
   "mimetype": "text/x-python",
   "name": "python",
   "nbconvert_exporter": "python",
   "pygments_lexer": "ipython3",
   "version": "3.7.3"
  },
  "latex_envs": {
   "LaTeX_envs_menu_present": true,
   "autoclose": false,
   "autocomplete": true,
   "bibliofile": "biblio.bib",
   "cite_by": "apalike",
   "current_citInitial": 1,
   "eqLabelWithNumbers": true,
   "eqNumInitial": 1,
   "hotkeys": {
    "equation": "Ctrl-E",
    "itemize": "Ctrl-I"
   },
   "labels_anchors": false,
   "latex_user_defs": false,
   "report_style_numbering": false,
   "user_envs_cfg": false
  }
 },
 "nbformat": 4,
 "nbformat_minor": 2
}
