{
 "cells": [
  {
   "cell_type": "code",
   "execution_count": null,
   "metadata": {},
   "outputs": [],
   "source": [
    "import numpy as np"
   ]
  },
  {
   "cell_type": "markdown",
   "metadata": {},
   "source": [
    "$\\newcommand{\\vct}[3]{ \\left(\\begin{array}{r} #1\\\\#2\\\\#3 \\end{array}\\right) }$"
   ]
  },
  {
   "cell_type": "markdown",
   "metadata": {},
   "source": [
    "## 3d-Coordinate systems\n",
    "\n",
    "To describe geometrical objects in space with the help of coordinates, we need a *three dimensional* coordinate system for reference. We use the convention that:\n",
    "- the $x$-axis points forward\n",
    "- the $y$-axis points to the right\n",
    "- the $z$-axis points upwards\n",
    "\n",
    "<img src=\"./pics/3d_coord.png\" width=\"35%\" align=\"center\">"
   ]
  },
  {
   "attachments": {},
   "cell_type": "markdown",
   "metadata": {},
   "source": [
    "## Points\n",
    "\n",
    "A __point__ $A$ with the __coordinates__ $x, y$ and $z$, written $A(x|y|z)$, indicates a *position* in space relative to the coordinate system. For example, point $A(3|4|5)$ can be found as follows: Starting at the origin, \n",
    "- walk $3$ units along the $x$-direction (towards me), and from there\n",
    "- walk $4$ units along the $y$-direction (to the right), and from there\n",
    "- walk $5$ units along the $z$-direction (upwards)\n",
    "\n",
    "Negative coordinates are also allowed and indicate to move into the opposite axis direction. For example, moving $z=-3$ units along the $z$-direction means moving $3$ units downwards.\n",
    "\n",
    "<img src=\"./pics/3d_point.png\" width=\"40%\" align=\"center\">\n",
    "\n",
    "Note:\n",
    " - The point with the coordinates $O(0|0|0)$ is called the __origin__ of the coordinate system.\n",
    " - We typically use capital letters to denote points ($A, B , U, ...$)"
   ]
  },
  {
   "cell_type": "markdown",
   "metadata": {},
   "source": [
    "## Vectors\n",
    "\n",
    "A __vector__ $\\vec v$ with components $x, y$, and $z$, written $$\\vec{u}=\\left(\\begin{align} x \\\\ y \\\\ z \\end{align}\\right)$$ represents an *arrow* in space. An arrow has a tail, a head, and a specific length and direction.\n",
    "\n",
    "<img src=\"./pics/arrow1.png\" width=\"20%\" align=\"center\">\n",
    "\n",
    "So how do three numbers define an arrow in space? For example, take the vector $$\\vec{u}=\\left(\\begin{align} 2 \\\\ 4 \\\\ 5 \\end{align}\\right)$$. We will draw the arrow as follows: Pick any location in space for the tail of the arrow, then find the arrow head by\n",
    "- move $2$ units in $x$-direction, from there\n",
    "- move $4$ units in $y$-direction, and from there\n",
    "- move $5$ units in $z$-direction\n",
    "\n",
    "<div class=\"important\">\n",
    "Note: the three components of a vector do not tell you where the arrow is in space.\n",
    "</div>\n",
    "\n",
    "We have seen that a vector represents an arrow. The opposite is also true. For every arrow we draw in space, we can find the three components of a vector that represents this arrow - just find out how to get from the tail of the arrow to the head of the arrow by following along the $x$-axis, $y$-axis and $z$-axis. For example, assume that for the arrow the tail is at $A(0|1|1)$ and the head at $B(0|5|3)$. \n",
    "\n",
    "<img src=\"./pics/AtoB.png\" width=\"30%\" align=\"center\">\n",
    "\n",
    "To get from $A$ to $B$, we have to walk along the $x$ axis by $0$ units, along the $y$-axis by $4$ units, and along the $z$-axis by $2$ units:\n",
    "\n",
    " $A$ | $\\rightarrow$  | $B$\n",
    " ---|---|---\n",
    " $0$  | $\\overset{+0}{\\rightarrow}$  | $0$\n",
    " $1$  | $\\overset{+4}{\\rightarrow}$  | $5$\n",
    " $1$  | $\\overset{+2}{\\rightarrow}$  | $3$\n",
    " \n",
    "So the vector representing this arrow is $$\\vec{u}=\\left(\\begin{align} 0 \\\\ 4 \\\\ 2 \\end{align}\\right)$$\n",
    "\n",
    "Note:\n",
    " - We typically use small lettters with an arrow pointing to the right on top of it to denote vectors ($\\vec a, \\vec u, ...$). \n",
    " - There is one exception: if the components of a vector arise from an arrow from a given point $A$ to a given point $B$, the vector is often denoted by $\\overrightarrow{AB}$. In the example above, we culd have written $$\\overrightarrow{AB}=\\left(\\begin{align} 0 \\\\ 4 \\\\ 2 \\end{align}\\right)$$"
   ]
  },
  {
   "cell_type": "markdown",
   "metadata": {},
   "source": [
    "## Exercises\n",
    "\n",
    "1. Determine the coordinates $A$ that are zero.\n",
    "<img src=\"./pics/exc_specPts.png\" width=\"70%\" align=\"center\">\n",
    "\n",
    "2. Indicate the following points in a 3d-coordinate system: $P(3|-4|5)$, $Q(3|-4|5)$, $R(3|-4|5)$, $S(3|-4|5)$, $T(3|-4|5)$, and $U(3|-4|5)$.\n",
    "\n",
    "3. On which plane and/or axis are the following points: $U(0|1|2)$,  $S(-1.3|1.2|0)$,  $V(-13|0|0)$. \n",
    "\n",
    "4. Find the coordinates of all the corners of the cube of side length $5$, and of the pyramid of height $h=4$ and base side length $s=4$.\n",
    "<img src=\"./pics/cube_pyr.png\" width=\"60%\" align=\"center\">\n",
    "\n",
    "5. Draw the vectors $\\vct{1}{0}{3}$ and $\\vct{1}{2}{3}$ as arrows. Start anywhere in space.\n",
    "\n",
    "6. Determine the vector $\\overrightarrow{UV}$:\n",
    "    - $U(1|2|-1)$, $V(2|10|-3)$\n",
    "    - $U(0|0|0)$, $V(3|1|10)$\n",
    "    - $U(-1.2|-3.1|5)$, $V(2|2|1)$\n",
    "\n",
    "\n",
    "7. If I start at point $A(0|1|0)$ and follow the components given by vector $\\vec{u}=\\vct{1}{-1}{1}$, where do I end up? Find the coordinates of this point $B$. Starting at $B$, what vector do I have to follow to get back to point $A$?\n",
    "\n",
    "8. Consider the parallelogram with the vertices $A(1|4|1)$, $B(0|3|2)$, $C$, and $D(2|3|0)$, what are the coordinates of point $C$?\n",
    "<img src=\"./pics/parallelogram.png\" width=\"20%\" align=\"center\">\n",
    "\n",
    "9. Determine the components of the arrows shown in the figure below. Vectors $\\vec{a}$, $\\vec{b}$, and $\\vec{c}$ are on the x-axis, y-axis, and z-axis, and vectors $\\vec{d}$ and $\\vec{e}$ are in the yz-plane.\n",
    "<img src=\"./pics/arrowTOvec.png\" width=\"30%\" align=\"center\">\n",
    "\n",
    "10. Consider the vectors $\\vct{0}{3}{4}$ and $\\vct{1}{4}{6}$. Determine their lengths. Can you find a general formula for determining the length of a vector $\\vct{x}{y}{z}$?\n",
    "\n",
    "11. Coonsider the vector $\\vct{0}{3}{4}$. Find another vector that \n",
    " - points into the same direction, and has twice the length.\n",
    " - points in the opposite direction and has half the length.\n",
    " - More generally, given a vector $\\vct{x}{y}{z}$, what are the components of vector pointing in the same direction but is $s$ times longer?"
   ]
  },
  {
   "cell_type": "code",
   "execution_count": 9,
   "metadata": {},
   "outputs": [
    {
     "data": {
      "text/html": [
       "<style>\n",
       "div.important {    \n",
       "    background-color: #fcf2f2;\n",
       "    border-color: #dFb5b4;\n",
       "    border-left: 5px solid #dfb5b4;\n",
       "    padding: 0.5em;\n",
       "    }\n",
       "\n",
       "div.exc {    \n",
       "    background-color: lightgray;\n",
       "    border-color: lightgray;\n",
       "    border-left: 5px solid gray;\n",
       "    padding: 0.5em;\n",
       "    }\n",
       "\n",
       " </style>\n"
      ],
      "text/plain": [
       "<IPython.core.display.HTML object>"
      ]
     },
     "execution_count": 9,
     "metadata": {},
     "output_type": "execute_result"
    }
   ],
   "source": [
    "#needs to be in the last cell for css styling\n",
    "from IPython.core.display import HTML\n",
    "def css_styling():\n",
    "    styles = open(\"/home/tom/jupyter/mathnotes/styles/custom.css\", \"r\").read()\n",
    "    return HTML(styles)\n",
    "css_styling()"
   ]
  }
 ],
 "metadata": {
  "hide_input": false,
  "kernelspec": {
   "display_name": "Python 3",
   "language": "python",
   "name": "python3"
  },
  "language_info": {
   "codemirror_mode": {
    "name": "ipython",
    "version": 3
   },
   "file_extension": ".py",
   "mimetype": "text/x-python",
   "name": "python",
   "nbconvert_exporter": "python",
   "pygments_lexer": "ipython3",
   "version": "3.7.3"
  }
 },
 "nbformat": 4,
 "nbformat_minor": 2
}
