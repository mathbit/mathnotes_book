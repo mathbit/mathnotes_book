{
 "cells": [
  {
   "cell_type": "markdown",
   "metadata": {},
   "source": [
    "## Scalar product and angles\n",
    "---\n",
    "\n",
    "Consider two (non-zero) vectors $\\vec{a}$ and $\\vec{b}$ and represent them in space as arrows with overlapping tails.\n",
    "\n",
    "<img src=\"./pics/angle1.png\" width=\"50%\" align=\"center\">\n",
    "\n",
    "We want to find the (smaller) angle $\\alpha$ that is formed between the two arrows (which will always be between $0^\\circ$ and $180^\\circ$). It turns out that the angle is closely related to the scalar product between $\\vec a$ and $\\vec b$:\n",
    "\n",
    "$$\\nonumber\\boxed{\\cos(\\alpha)=\\frac{\\vec{a}\\bullet \\vec{b}}{|\\vec{a}|\\cdot |\\vec{b}|} }$$\n",
    "\n",
    "Once we have calculated the value for $\\cos(\\alpha)$, we can calculate $\\alpha$ using $\\cos^{-1}$.\n",
    "\n",
    "### Example\n",
    "---\n",
    "Consider the vectors $\\vec{a} = \\left(\\begin{array}{r} 3\\\\\\ 5\\\\\\ 2 \\end{array}\\right)$ and $\\vec{b}=\\left(\\begin{array}{r} -1\\\\\\ 3\\\\\\ 8 \\end{array}\\right)$. It is\n",
    "\n",
    "$$\\nonumber\\cos(\\alpha)=\\frac{\\vec{a}\\bullet \\vec{b}}{|\\vec{a}|\\cdot |\\vec{b}|} = \\frac{3\\cdot (-1)+5\\cdot 3+2\\cdot 8}{\\sqrt{3^2+5^2+2^2}\\cdot \\sqrt{(-1)^2+3^2+8^2}} = \\frac{28}{\\sqrt{38}\\cdot \\sqrt{74}} = 0.528$$\n",
    "\n",
    "Thus, the smaller angle between $\\vec a$ and $\\vec b$ is $\\alpha = \\cos^{-1}(0.528)=58.12^\\circ$"
   ]
  },
  {
   "cell_type": "markdown",
   "metadata": {},
   "source": [
    "## Exercise\n",
    "---\n",
    "\n",
    "Consider the vectors $\\vec{a}=\\left(\\begin{array}{r} 0\\\\\\ 1\\\\\\ 4 \\end{array}\\right)$ and $\\vec{b}=\\left(\\begin{array}{r} 0\\\\\\ 3\\\\\\ 1 \\end{array}\\right)$.\n",
    "\t\n",
    "1. Draw the arrows and measure the angle between the two arrows.\n",
    "2. Calculate the angle and compare with the measurement."
   ]
  },
  {
   "cell_type": "markdown",
   "metadata": {},
   "source": [
    "## Solution\n",
    "---\n",
    "<img src=\"./pics/sol_angle.png\" width=\"60%\" align=\"center\">"
   ]
  },
  {
   "cell_type": "code",
   "execution_count": null,
   "metadata": {
    "tags": [
     "remove_cell"
    ]
   },
   "outputs": [],
   "source": [
    "#needs to be in the last cell for css styling\n",
    "from IPython.core.display import HTML\n",
    "def css_styling():\n",
    "    styles = open(\"../../assets/custom/custom.css\", \"r\").read()\n",
    "    return HTML(styles)\n",
    "css_styling()"
   ]
  }
 ],
 "metadata": {
  "celltoolbar": "Tags",
  "hide_input": false,
  "kernelspec": {
   "display_name": "Python 3",
   "language": "python",
   "name": "python3"
  },
  "language_info": {
   "codemirror_mode": {
    "name": "ipython",
    "version": 3
   },
   "file_extension": ".py",
   "mimetype": "text/x-python",
   "name": "python",
   "nbconvert_exporter": "python",
   "pygments_lexer": "ipython3",
   "version": "3.7.3"
  },
  "latex_envs": {
   "LaTeX_envs_menu_present": true,
   "autoclose": false,
   "autocomplete": true,
   "bibliofile": "biblio.bib",
   "cite_by": "apalike",
   "current_citInitial": 1,
   "eqLabelWithNumbers": true,
   "eqNumInitial": 1,
   "hotkeys": {
    "equation": "Ctrl-E",
    "itemize": "Ctrl-I"
   },
   "labels_anchors": false,
   "latex_user_defs": false,
   "report_style_numbering": false,
   "user_envs_cfg": false
  }
 },
 "nbformat": 4,
 "nbformat_minor": 2
}
