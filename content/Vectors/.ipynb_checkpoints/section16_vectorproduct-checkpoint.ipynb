{
 "cells": [
  {
   "cell_type": "markdown",
   "metadata": {},
   "source": [
    "## Vectorproduct\n",
    "---\n",
    "\n",
    "Consider two vectors $\\vec{a}$ and $\\vec{b}$. The __vector product__ (or __cross-product__) of $\\vec{a}$ and $\\vec{b}$, written $\\vec{a} \\times \\vec{b}$ is a new vector that is defined as follows \n",
    "\n",
    "$$\\nonumber \\vec{a}\\times \\vec{b} = \\left(\\begin{array}{r} a_y b_z-a_z b_y \\\\ a_z b_x-a_x b_z \\\\ a_x b_y - a_y b_x \\end{array}\\right)$$ \n",
    "\n",
    "There are several methods for finding the components of the new vector. Here is one: \n",
    "\n",
    "<img src=\"./pics/schema.png\" width=\"30%\" align=\"center\">\n",
    "\n",
    "\n",
    "### Example\n",
    "---\n",
    "\n",
    "Determine the vector product $\\vec{a}\\times \\vec{b}$:\n",
    "1. $\\vec{a}=\\left(\\begin{array}{r} 1 \\\\ -2 \\\\ 3 \\end{array}\\right)$, $\\vec{b}=\\left(\\begin{array}{r} 4 \\\\ 3 \\\\ -1 \\end{array}\\right)$\n",
    "\n",
    "2. $\\vec{a}=\\left(\\begin{array}{r} 1 \\\\ 0 \\\\ 0 \\end{array}\\right)$, $\\vec{b}=\\left(\\begin{array}{r} 0 \\\\ 1 \\\\ 0 \\end{array}\\right)$\n",
    "\n",
    "\n",
    "### Solution\n",
    "---\n",
    "\n",
    "<img src=\"./pics/sol_vecprod1.png\" width=\"80%\" align=\"center\">\n",
    "\n",
    "\n",
    "\n",
    "## Finding the normal vector of a plane given by three points\n",
    "---\n",
    "\n",
    "The most important property of the vector product is that the vector $\\vec{a}\\times \\vec{b}$ is orthogonal to _both_ vectors $\\vec{a}$ and $\\vec{b}$: \n",
    "\n",
    "$$\\nonumber \\boxed{(\\vec{a}\\times \\vec{b}) \\perp \\vec{a} \\, \\mbox{ and }\\, (\\vec{a}\\times \\vec{b}) \\perp \\vec{b}}$$ \n",
    "\n",
    "<img src=\"./pics/avecb.png\" width=\"25%\" align=\"center\">\n",
    "\n",
    "This property can be used to find the normal vector $\\vec n$ of a plane that is given by three points $A, B$ and $C$ (see figure below). \n",
    "\n",
    "<img src=\"./pics/normal1.png\" width=\"45%\" align=\"center\">\n",
    "\n",
    "Clearly we have \n",
    "\n",
    "$$\\nonumber \\vec n = \\overrightarrow{AB} \\times \\overrightarrow{AC}$$\n",
    "\n",
    "\n",
    "### Example\n",
    "---\n",
    "\n",
    "A plane contains the three points $A(1\\vert -1\\vert 2), B(4\\vert 2\\vert -1)$ and $C(-1 \\vert 2\\vert 4)$. Is the point $P(2.5\\vert 1\\vert 1.5)$ in the plane?\n",
    "\n",
    "### Solution\n",
    "---\n",
    "We first find a normal vector $\\vec n$ of $E$:\n",
    "\n",
    "$$\\nonumber \\vec n = \\overrightarrow{AB} \\times \\overrightarrow{AC} = \\left(\\begin{array}{r} 3 \\\\ 3 \\\\ -3 \\end{array}\\right) \\times \\left(\\begin{array}{r} -2 \\\\ 3 \\\\ 2 \\end{array}\\right) = \\left(\\begin{array}{r} 15 \\\\  0\\\\ 15 \\end{array}\\right)$$\n",
    "\n",
    "We can choose this vector, or any other that is collinear to this one, e.g. $\\vec n = \\left(\\begin{array}{r} 1 \\\\  0\\\\ 1 \\end{array}\\right)$. We take the latter one, as there is less to calculate. Because of\n",
    "\n",
    "$$\\nonumber \\overrightarrow{AP} \\bullet \\vec n = \\left(\\begin{array}{r} 1.5 \\\\  2\\\\ -0.5 \\end{array}\\right) \\bullet \\left(\\begin{array}{r} 1 \\\\  0\\\\ 1 \\end{array}\\right) = 1\\neq 0$$ \n",
    "\n",
    "it follows that $P\\not\\in E$."
   ]
  },
  {
   "cell_type": "markdown",
   "metadata": {},
   "source": [
    "## Exercise\n",
    "---\n",
    "\n",
    "1. Proof that $(\\vec a \\times \\vec b) \\perp \\vec a$ and $(\\vec a \\times \\vec b) \\perp \\vec b$\n",
    "\n",
    "2. A plane $E$ contains the three points $A(1\\vert -1 \\vert 2)$, $B(0\\vert 1\\vert 1)$, and $C(4\\vert -2\\vert 5)$. Determine a normal vector of $E$."
   ]
  },
  {
   "cell_type": "markdown",
   "metadata": {},
   "source": [
    "## Solution\n",
    "---\n",
    "\n",
    "1. We have to show that $(\\vec{a}\\times \\vec{b})\\bullet \\vec{a}=0$.\n",
    "\n",
    "    $$\\begin{array}{lll}\n",
    "    (\\vec{a}\\times \\vec{b})\\times \\vec a & = & \\left(\\begin{array}{r} a_y b_z-a_z b_y \\\\ a_z b_x-a_x b_z \\\\a_x b_y - a_y b_x\\end{array}\\right) \\bullet \\left(\\begin{array}{r} a_x \\\\  a_y\\\\ a_z \\end{array}\\right)\\\\ \n",
    "    & = & a_y b_z a_x -a_z b_y a_x + a_z b_x a_y -a_x b_z a_y + a_x b_y a_z - a_y b_x a_z \\\\\n",
    "    & = & 0\\end{array}$$ \n",
    "    \n",
    "    A similar calculation shows that $(\\vec{a}\\times \\vec{b})\\bullet \\vec{a}=0$.\n",
    "    \n",
    "2. A normal vector of $E$ is \n",
    "\n",
    "    $$\\nonumber\\vec{n}=\\overrightarrow{AB} \\times \\overrightarrow{AC} = \\left(\\begin{array}{r} -1 \\\\ 2 \\\\ -1 \\end{array}\\right) \\times \\left(\\begin{array}{r} 3 \\\\ -1 \\\\ 3 \\end{array}\\right) = \\left(\\begin{array}{r} 5 \\\\  0\\\\ -5 \\end{array}\\right)$$ \n",
    "    \n",
    "    <img src=\"./pics/sol_normal.png\" width=\"85%\" align=\"center\">\n",
    "    \n",
    "    A simpler normal vector is the collinear vector $\\vec n = \\left(\\begin{array}{r} 1 \\\\\\ 0 \\\\\\ -1 \\end{array}\\right)$."
   ]
  },
  {
   "cell_type": "code",
   "execution_count": null,
   "metadata": {
    "tags": [
     "remove_cell"
    ]
   },
   "outputs": [],
   "source": [
    "#needs to be in the last cell for css styling\n",
    "from IPython.core.display import HTML\n",
    "def css_styling():\n",
    "    styles = open(\"../../assets/custom/custom.css\", \"r\").read()\n",
    "    return HTML(styles)\n",
    "css_styling()"
   ]
  }
 ],
 "metadata": {
  "celltoolbar": "Tags",
  "hide_input": false,
  "kernelspec": {
   "display_name": "Python 3",
   "language": "python",
   "name": "python3"
  },
  "language_info": {
   "codemirror_mode": {
    "name": "ipython",
    "version": 3
   },
   "file_extension": ".py",
   "mimetype": "text/x-python",
   "name": "python",
   "nbconvert_exporter": "python",
   "pygments_lexer": "ipython3",
   "version": "3.7.3"
  },
  "latex_envs": {
   "LaTeX_envs_menu_present": true,
   "autoclose": false,
   "autocomplete": true,
   "bibliofile": "biblio.bib",
   "cite_by": "apalike",
   "current_citInitial": 1,
   "eqLabelWithNumbers": true,
   "eqNumInitial": 1,
   "hotkeys": {
    "equation": "Ctrl-E",
    "itemize": "Ctrl-I"
   },
   "labels_anchors": false,
   "latex_user_defs": false,
   "report_style_numbering": false,
   "user_envs_cfg": false
  }
 },
 "nbformat": 4,
 "nbformat_minor": 2
}
