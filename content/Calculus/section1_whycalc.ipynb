{
 "cells": [
  {
   "cell_type": "markdown",
   "metadata": {},
   "source": [
    "## Why calculus?\n",
    "---\n",
    "\n",
    "Calculus is a way of solving complicated problems: _\"Divide the problem into little parts (differentiation), solve problem for each little part, which is easier, then assemble the parts to solve the complex problem (integration).\"_\n",
    "\n",
    "We start the discussionn with _differential_ calculus, followed by _integral_ calculus. But before we do this, let us give an example of how the strategy of dividing and assembling can solve a problem.\n",
    "\n",
    "\n",
    "### Example\n",
    "---\n",
    "\n",
    "We know that the circumference of a circle of radius $r$ is $2\\pi r$. Use this information to infer the area of a circle of radius $r$. _Hint: divide the circle into smaller and smaller segments, which you arrange in a clever way._ \n",
    "\n",
    "<img src=\"./pics/circlearea.png\" width=\"55%\" align=\"center\">\n",
    "\n",
    "It was Archimedes who determined the area of a circle using this method.\n",
    "\n",
    "---\n",
    "\n",
    "### Example\n",
    "\n",
    "Johann Kepler (1571 - 1630) studied the motion of our planets. He found that each planet moves along an ellipse around the sun, but with varying speed - the closer to the sun, the higher was the speed of the planet. But according to what rule did the speed change? Kepler found that a planet moves such that it covers _an equal area_ any given time interval. \n",
    "\n",
    "<img src=\"./pics/kepler.png\" width=\"55%\" align=\"center\">\n",
    "\n",
    "In order to find this law, he had to determine the area bounded by _curved lines_. Using a similar method as above, he divided the shaded region in small sections (which he approximated with triangles) and summed the triangle areas to find the total area.\n",
    "\n",
    "\n",
    "\n",
    "\n",
    "\n",
    "\n",
    "\n"
   ]
  },
  {
   "cell_type": "code",
   "execution_count": null,
   "metadata": {},
   "outputs": [],
   "source": [
    "%pylab inline\n",
    "\n",
    "plt.xkcd()  # Yes...\n",
    "plt.plot(sin(linspace(0, 10)))\n",
    "plt.title('Whoo Hoo!!!')"
   ]
  },
  {
   "cell_type": "code",
   "execution_count": null,
   "metadata": {
    "tags": [
     "remove_cell"
    ]
   },
   "outputs": [],
   "source": [
    "from IPython.core.display import HTML, display\n",
    "def css_styling():\n",
    "    styles = open(\"custom.css\", \"r\").read()\n",
    "    #display(HTML(\"<style>.rendered_html { font-size: 18px; }</style>\"))\n",
    "    return HTML(styles)\n",
    "css_styling()\n"
   ]
  },
  {
   "cell_type": "code",
   "execution_count": 1,
   "metadata": {},
   "outputs": [
    {
     "data": {
      "application/vnd.jupyter.widget-view+json": {
       "model_id": "7160da0d49654bcfac4c224451723f16",
       "version_major": 2,
       "version_minor": 0
      },
      "text/plain": [
       "interactive(children=(IntSlider(value=5, description='x', max=15, min=-5), Output()), _dom_classes=('widget-in…"
      ]
     },
     "metadata": {},
     "output_type": "display_data"
    }
   ],
   "source": [
    "from ipywidgets import interact, interact_manual\n",
    "import ipywidgets as widgets\n",
    "\n",
    "@widgets.interact\n",
    "def f(x=5):\n",
    "    print(x)"
   ]
  },
  {
   "cell_type": "code",
   "execution_count": null,
   "metadata": {},
   "outputs": [],
   "source": []
  }
 ],
 "metadata": {
  "celltoolbar": "Tags",
  "hide_input": false,
  "kernelspec": {
   "display_name": "Python 3",
   "language": "python",
   "name": "python3"
  },
  "language_info": {
   "codemirror_mode": {
    "name": "ipython",
    "version": 3
   },
   "file_extension": ".py",
   "mimetype": "text/x-python",
   "name": "python",
   "nbconvert_exporter": "python",
   "pygments_lexer": "ipython3",
   "version": "3.7.3"
  },
  "latex_envs": {
   "LaTeX_envs_menu_present": true,
   "autoclose": false,
   "autocomplete": true,
   "bibliofile": "biblio.bib",
   "cite_by": "apalike",
   "current_citInitial": 1,
   "eqLabelWithNumbers": true,
   "eqNumInitial": 1,
   "hotkeys": {
    "equation": "Ctrl-E",
    "itemize": "Ctrl-I"
   },
   "labels_anchors": false,
   "latex_user_defs": false,
   "report_style_numbering": false,
   "user_envs_cfg": false
  },
  "widgets": {
   "application/vnd.jupyter.widget-state+json": {
    "state": {
     "012f74b69c7b44ac97822dde10bfea41": {
      "model_module": "@jupyter-widgets/base",
      "model_module_version": "1.2.0",
      "model_name": "LayoutModel",
      "state": {}
     },
     "1400c0a828f648c9b4e974d92c5b0045": {
      "model_module": "@jupyter-widgets/base",
      "model_module_version": "1.2.0",
      "model_name": "LayoutModel",
      "state": {}
     },
     "14bd360495f64013ab1f2b74c6b2942c": {
      "model_module": "@jupyter-widgets/base",
      "model_module_version": "1.2.0",
      "model_name": "LayoutModel",
      "state": {}
     },
     "218a4062b5c349c59576dc7af6032c33": {
      "model_module": "@jupyter-widgets/base",
      "model_module_version": "1.2.0",
      "model_name": "LayoutModel",
      "state": {}
     },
     "34ed156059c042b685db84297c65f64f": {
      "model_module": "@jupyter-widgets/base",
      "model_module_version": "1.2.0",
      "model_name": "LayoutModel",
      "state": {}
     },
     "3b30c419597c41a9b8e655b80a110fb5": {
      "model_module": "@jupyter-widgets/controls",
      "model_module_version": "1.5.0",
      "model_name": "IntSliderModel",
      "state": {
       "description": "x",
       "layout": "IPY_MODEL_7eb26612fd7f43c7803a20dfa02b19f4",
       "max": 15,
       "min": -5,
       "style": "IPY_MODEL_d1aa55e6b964459f8295deceb6f3dde8",
       "value": 1
      }
     },
     "4c3be24a506a411cb940989c6d958202": {
      "model_module": "@jupyter-widgets/controls",
      "model_module_version": "1.5.0",
      "model_name": "SliderStyleModel",
      "state": {
       "description_width": ""
      }
     },
     "4dbfa0048ef245a290e306fe618c511e": {
      "model_module": "@jupyter-widgets/controls",
      "model_module_version": "1.5.0",
      "model_name": "VBoxModel",
      "state": {
       "_dom_classes": [
        "widget-interact"
       ],
       "children": [
        "IPY_MODEL_3b30c419597c41a9b8e655b80a110fb5",
        "IPY_MODEL_69c5187249ca4f5fad1f869cf9c2b06e"
       ],
       "layout": "IPY_MODEL_6d505681af3d4373891704ea3086df00"
      }
     },
     "4fd5c723826e478f859501e3b01bdc7a": {
      "model_module": "@jupyter-widgets/controls",
      "model_module_version": "1.5.0",
      "model_name": "VBoxModel",
      "state": {
       "_dom_classes": [
        "widget-interact"
       ],
       "children": [
        "IPY_MODEL_f68fb425cc2e44b48daefb0005bf5c47",
        "IPY_MODEL_6a7cfc55105f4e71825b553ccdbd7a91"
       ],
       "layout": "IPY_MODEL_012f74b69c7b44ac97822dde10bfea41"
      }
     },
     "5b82237c4d5140abaeac932063d6de2b": {
      "model_module": "@jupyter-widgets/base",
      "model_module_version": "1.2.0",
      "model_name": "LayoutModel",
      "state": {}
     },
     "617f0d4bb0494a23b3e645e50d0e09a2": {
      "model_module": "@jupyter-widgets/base",
      "model_module_version": "1.2.0",
      "model_name": "LayoutModel",
      "state": {}
     },
     "691f22e5acf1422781074690a388b364": {
      "model_module": "@jupyter-widgets/output",
      "model_module_version": "1.0.0",
      "model_name": "OutputModel",
      "state": {
       "layout": "IPY_MODEL_7c0b7927b94c4f738887b3fb36fdc5d2",
       "outputs": [
        {
         "name": "stdout",
         "output_type": "stream",
         "text": "5\n"
        }
       ]
      }
     },
     "69c5187249ca4f5fad1f869cf9c2b06e": {
      "model_module": "@jupyter-widgets/output",
      "model_module_version": "1.0.0",
      "model_name": "OutputModel",
      "state": {
       "layout": "IPY_MODEL_1400c0a828f648c9b4e974d92c5b0045",
       "outputs": [
        {
         "name": "stdout",
         "output_type": "stream",
         "text": "1\n"
        }
       ]
      }
     },
     "6a7cfc55105f4e71825b553ccdbd7a91": {
      "model_module": "@jupyter-widgets/output",
      "model_module_version": "1.0.0",
      "model_name": "OutputModel",
      "state": {
       "layout": "IPY_MODEL_218a4062b5c349c59576dc7af6032c33",
       "outputs": [
        {
         "name": "stdout",
         "output_type": "stream",
         "text": "5\n"
        }
       ]
      }
     },
     "6d505681af3d4373891704ea3086df00": {
      "model_module": "@jupyter-widgets/base",
      "model_module_version": "1.2.0",
      "model_name": "LayoutModel",
      "state": {}
     },
     "7160da0d49654bcfac4c224451723f16": {
      "model_module": "@jupyter-widgets/controls",
      "model_module_version": "1.5.0",
      "model_name": "VBoxModel",
      "state": {
       "_dom_classes": [
        "widget-interact"
       ],
       "children": [
        "IPY_MODEL_b5e223852d754c0ab76dced9d38a0804",
        "IPY_MODEL_691f22e5acf1422781074690a388b364"
       ],
       "layout": "IPY_MODEL_14bd360495f64013ab1f2b74c6b2942c"
      }
     },
     "7c0b7927b94c4f738887b3fb36fdc5d2": {
      "model_module": "@jupyter-widgets/base",
      "model_module_version": "1.2.0",
      "model_name": "LayoutModel",
      "state": {}
     },
     "7eb26612fd7f43c7803a20dfa02b19f4": {
      "model_module": "@jupyter-widgets/base",
      "model_module_version": "1.2.0",
      "model_name": "LayoutModel",
      "state": {}
     },
     "7fc963aedfce41349cff9472d18166fd": {
      "model_module": "@jupyter-widgets/output",
      "model_module_version": "1.0.0",
      "model_name": "OutputModel",
      "state": {
       "layout": "IPY_MODEL_9902bdf8ab5b45a7a8e00e49f3bf07eb",
       "outputs": [
        {
         "name": "stdout",
         "output_type": "stream",
         "text": "5\n"
        }
       ]
      }
     },
     "804176b3c516458fbe33f2c0629ccf00": {
      "model_module": "@jupyter-widgets/controls",
      "model_module_version": "1.5.0",
      "model_name": "SliderStyleModel",
      "state": {
       "description_width": ""
      }
     },
     "8bf7a837dc7c43eb8d59bd4448ba0aa7": {
      "model_module": "@jupyter-widgets/controls",
      "model_module_version": "1.5.0",
      "model_name": "SliderStyleModel",
      "state": {
       "description_width": ""
      }
     },
     "8f274608f0c341998cefa5e9b6bd7179": {
      "model_module": "@jupyter-widgets/controls",
      "model_module_version": "1.5.0",
      "model_name": "IntSliderModel",
      "state": {
       "description": "x",
       "layout": "IPY_MODEL_617f0d4bb0494a23b3e645e50d0e09a2",
       "max": 15,
       "min": -5,
       "style": "IPY_MODEL_804176b3c516458fbe33f2c0629ccf00",
       "value": 5
      }
     },
     "9902bdf8ab5b45a7a8e00e49f3bf07eb": {
      "model_module": "@jupyter-widgets/base",
      "model_module_version": "1.2.0",
      "model_name": "LayoutModel",
      "state": {}
     },
     "9dae588251de45d1b07177a8a1eeee64": {
      "model_module": "@jupyter-widgets/controls",
      "model_module_version": "1.5.0",
      "model_name": "SliderStyleModel",
      "state": {
       "description_width": ""
      }
     },
     "b08003c6d0d14514a03aca4e5c033e41": {
      "model_module": "@jupyter-widgets/base",
      "model_module_version": "1.2.0",
      "model_name": "LayoutModel",
      "state": {}
     },
     "b5e223852d754c0ab76dced9d38a0804": {
      "model_module": "@jupyter-widgets/controls",
      "model_module_version": "1.5.0",
      "model_name": "IntSliderModel",
      "state": {
       "description": "x",
       "layout": "IPY_MODEL_5b82237c4d5140abaeac932063d6de2b",
       "max": 15,
       "min": -5,
       "style": "IPY_MODEL_9dae588251de45d1b07177a8a1eeee64",
       "value": 5
      }
     },
     "ca53f38513924f22abaf3a6c8d00dc53": {
      "model_module": "@jupyter-widgets/base",
      "model_module_version": "1.2.0",
      "model_name": "LayoutModel",
      "state": {}
     },
     "cb38ae580a5043aa920505a743e1571e": {
      "model_module": "@jupyter-widgets/base",
      "model_module_version": "1.2.0",
      "model_name": "LayoutModel",
      "state": {}
     },
     "d1aa55e6b964459f8295deceb6f3dde8": {
      "model_module": "@jupyter-widgets/controls",
      "model_module_version": "1.5.0",
      "model_name": "SliderStyleModel",
      "state": {
       "description_width": ""
      }
     },
     "d4e88609d03241c1a154a70cddc344de": {
      "model_module": "@jupyter-widgets/controls",
      "model_module_version": "1.5.0",
      "model_name": "VBoxModel",
      "state": {
       "_dom_classes": [
        "widget-interact"
       ],
       "children": [
        "IPY_MODEL_8f274608f0c341998cefa5e9b6bd7179",
        "IPY_MODEL_d7b8f913a4c046c686a93e7b05519e41"
       ],
       "layout": "IPY_MODEL_b08003c6d0d14514a03aca4e5c033e41"
      }
     },
     "d7b8f913a4c046c686a93e7b05519e41": {
      "model_module": "@jupyter-widgets/output",
      "model_module_version": "1.0.0",
      "model_name": "OutputModel",
      "state": {
       "layout": "IPY_MODEL_d81ba58ef1eb4d6580d27e619c176b58",
       "outputs": [
        {
         "name": "stdout",
         "output_type": "stream",
         "text": "5\n"
        }
       ]
      }
     },
     "d81ba58ef1eb4d6580d27e619c176b58": {
      "model_module": "@jupyter-widgets/base",
      "model_module_version": "1.2.0",
      "model_name": "LayoutModel",
      "state": {}
     },
     "e132b3857d664cff94ff9e7d715a2e9d": {
      "model_module": "@jupyter-widgets/controls",
      "model_module_version": "1.5.0",
      "model_name": "IntSliderModel",
      "state": {
       "description": "x",
       "layout": "IPY_MODEL_34ed156059c042b685db84297c65f64f",
       "max": 15,
       "min": -5,
       "style": "IPY_MODEL_8bf7a837dc7c43eb8d59bd4448ba0aa7",
       "value": 5
      }
     },
     "f2b1548f1dba407581b077e9bbaeadee": {
      "model_module": "@jupyter-widgets/controls",
      "model_module_version": "1.5.0",
      "model_name": "VBoxModel",
      "state": {
       "_dom_classes": [
        "widget-interact"
       ],
       "children": [
        "IPY_MODEL_e132b3857d664cff94ff9e7d715a2e9d",
        "IPY_MODEL_7fc963aedfce41349cff9472d18166fd"
       ],
       "layout": "IPY_MODEL_ca53f38513924f22abaf3a6c8d00dc53"
      }
     },
     "f68fb425cc2e44b48daefb0005bf5c47": {
      "model_module": "@jupyter-widgets/controls",
      "model_module_version": "1.5.0",
      "model_name": "IntSliderModel",
      "state": {
       "description": "x",
       "layout": "IPY_MODEL_cb38ae580a5043aa920505a743e1571e",
       "max": 15,
       "min": -5,
       "style": "IPY_MODEL_4c3be24a506a411cb940989c6d958202",
       "value": 5
      }
     }
    },
    "version_major": 2,
    "version_minor": 0
   }
  }
 },
 "nbformat": 4,
 "nbformat_minor": 2
}
