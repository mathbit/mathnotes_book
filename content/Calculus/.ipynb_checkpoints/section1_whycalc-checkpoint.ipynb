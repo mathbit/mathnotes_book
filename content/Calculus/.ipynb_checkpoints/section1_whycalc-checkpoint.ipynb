{
 "cells": [
  {
   "cell_type": "markdown",
   "metadata": {},
   "source": [
    "## Why calculus?\n",
    "---\n",
    "\n",
    "Calculus is a way of solving complicated problems: _\"Divide the problem into little parts (differentiation), solve problem for each little part, which is easier, then assemble the parts to solve the complex problem (integration).\"_\n",
    "\n",
    "We start the discussionn with _differential_ calculus, followed by _integral_ calculus. But before we do this, let us give an example of how the strategy of dividing and assembling can solve a problem.\n",
    "\n",
    "\n",
    "### Exercise\n",
    "---\n",
    "\n",
    "We know that the circumference of a circle of radius $r$ is $2\\pi r$. Use this information to infer the area of a circle of radius $r$. _Hint: divide the circle into smaller and smaller segments, which you arrange in a clever way._ \n",
    "\n",
    "It was Archimedes who determined the area of a circle using this method.\n",
    "\n",
    "---\n",
    "\n",
    "### Example\n",
    "\n",
    "Johann Kepler (1571 - 1630) studied the motion of our planets. He found that each planet moves along an ellipse around the sun, but with varying speed - the closer to the sun, the higher was the speed of the planet. But according to what rule did the speed change? Kepler found that a planet moves such that it covers _an equal area_ any given time interval. \n",
    "\n",
    "<img src=\"./pics/kepler.png\" width=\"55%\" align=\"center\">\n",
    "\n",
    "In order to find this law, he had to determine the area bounded by _curved lines_. Using a similar method as above, he divided the shaded region in small sections (which he approximated with triangles) and summed the triangle areas to find the total area.\n",
    "\n",
    "\n",
    "\n",
    "\n",
    "\n",
    "\n",
    "\n"
   ]
  },
  {
   "cell_type": "code",
   "execution_count": 1,
   "metadata": {},
   "outputs": [
    {
     "name": "stdout",
     "output_type": "stream",
     "text": [
      "Populating the interactive namespace from numpy and matplotlib\n"
     ]
    },
    {
     "data": {
      "text/plain": [
       "Text(0.5, 1.0, 'Whoo Hoo!!!')"
      ]
     },
     "execution_count": 1,
     "metadata": {},
     "output_type": "execute_result"
    },
    {
     "data": {
      "image/png": "[encoded data removed]",
      "text/plain": [
       "<Figure size 432x288 with 1 Axes>"
      ]
     },
     "metadata": {},
     "output_type": "display_data"
    }
   ],
   "source": [
    "%pylab inline\n",
    "\n",
    "plt.xkcd()  # Yes...\n",
    "plt.plot(sin(linspace(0, 10)))\n",
    "plt.title('Whoo Hoo!!!')"
   ]
  },
  {
   "cell_type": "code",
   "execution_count": 2,
   "metadata": {
    "tags": [
     "remove_cell"
    ]
   },
   "outputs": [
    {
     "data": {
      "text/html": [
       "<style>\n",
       "\n",
       "    div.cell {\n",
       "        width:800px;\n",
       "        margin-left:16% !important;\n",
       "        margin-right:auto;\n",
       "    }\n",
       "    h1 {\n",
       "        font-family: \"Times New Roman\" !important;\n",
       "    }\n",
       "    h2 {\n",
       "        font-family: \"Times New Roman\" !important;\n",
       "\t      color: green\n",
       "    }\n",
       "    h3 {\n",
       "      font-family: \"Times New Roman\" !important;\n",
       "        color: gray\n",
       "    }\n",
       "    h4 {\n",
       "      font-family:  \"Times New Roman\" !important;\n",
       "        margin-top:12px;\n",
       "        margin-bottom: 3px;\n",
       "    }\n",
       "    div.text_cell_render {\n",
       "        font-family: \"Times New Roman\" !important;\n",
       "        line-height: 145%;\n",
       "        font-size: 18px;\n",
       "        width:800px;\n",
       "        margin-left:auto;\n",
       "        margin-right:auto;\n",
       "    }\n",
       "    .CodeMirror {\n",
       "            font-family: \"Source Code Pro\", source-code-pro,Consolas, monospace;\n",
       "    }\n",
       "    .prompt {\n",
       "        display: None;\n",
       "    }\n",
       "    .text_cell_render h5 {\n",
       "        font-weight: 300;\n",
       "        /* font-size: 22pt; */\n",
       "        color: #4057A1;\n",
       "        font-style: italic;\n",
       "        margin-bottom: .5em;\n",
       "        margin-top: 0.5em;\n",
       "        display: block;\n",
       "    }\n",
       "\n",
       "    .warning{\n",
       "        color: rgb( 240, 20, 20 )\n",
       "        }\n",
       "\n",
       "    /* .MathJax {\n",
       "        font-size: 1em;\n",
       "    } */\n",
       "\n",
       "    div.important {\n",
       "       background-color: #fcf2f2;\n",
       "       border-color: #dFb5b4;\n",
       "       border-left: 5px solid #dfb5b4;\n",
       "       padding: 0.5em;\n",
       "    }\n",
       "\n",
       "    /* div.exc {\n",
       "       background-color: lightgray;\n",
       "       border-color: lightgray;\n",
       "       border-left: 5px solid gray;\n",
       "       padding: 0.5em;\n",
       "    }\n",
       "\n",
       "    div.sol {\n",
       "       background-color: lightgray;\n",
       "       border-color: lightgray;\n",
       "       border-left: 5px solid gray;\n",
       "       padding: 0.5em;\n",
       "    } */\n",
       "\n",
       "    li{\n",
       "       margin: 10px 0;\n",
       "    }\n",
       "\n",
       "    ol ol { list-style-type: upper-alpha; important! }\n",
       "    ol ol ol { list-style-type: lower-alpha; important! }\n",
       "\n",
       "</style>\n",
       "\n",
       "\n",
       "<script type=\"text/x-mathjax-config\">\n",
       "    jax: [\"input/TeX\",\"output/HTML-CSS\"],\n",
       "    MathJax.Hub.Config({\n",
       "                TeX: {\n",
       "                        extensions: [\"AMSmath.js\"],\n",
       "\t\t\t                  Macros: {\n",
       "      \t\t\t\t                RR: '{\\\\bf TOM}',\n",
       "      \t\t\t\t                bold: ['\\\\boldsymbol{#1}',1],\n",
       "    \t\t\t              },\n",
       "                },\n",
       "\t\t            tex2jax: {\n",
       "            \t\t    inlineMath: [ [\"$\",\"$\"], [\"\\\\(\",\"\\\\)\"] ],\n",
       "                    displayMath: [ [\"$$\",\"$$\"], [\"\\\\[\",\"\\\\]\"] ],\n",
       "            \t\t    processEscapes: true,\n",
       "            \t\t    processEnvironments: true,\n",
       "        \t     },\n",
       "               MatchWebFonts: {\n",
       "                 fontCheckDelay: 5 * 1000,\n",
       "                 fontCheckTimeout: 30 * 1000,\n",
       "               }\n",
       "               \"HTML-CSS\": {\n",
       "                    /* scale: 130 */\n",
       "                    styles: {'.MathJax_Display': {\"margin\": 0}},\n",
       "                    availableFonts: [\"STIX-Web\",\"TeX\",\"Latin-Modern\"],\n",
       "                    preferredFont: \"STIX-Web\",\n",
       "                    webFont: \"STIX-Web\",\n",
       "                    matchFontHeight: true,\n",
       "                    /* minScaleAdjust: 55, */\n",
       "                },\n",
       "        });\n",
       "</script>\n"
      ],
      "text/plain": [
       "<IPython.core.display.HTML object>"
      ]
     },
     "execution_count": 2,
     "metadata": {},
     "output_type": "execute_result"
    }
   ],
   "source": [
    "from IPython.core.display import HTML, display\n",
    "def css_styling():\n",
    "    styles = open(\"custom.css\", \"r\").read()\n",
    "    #display(HTML(\"<style>.rendered_html { font-size: 18px; }</style>\"))\n",
    "    return HTML(styles)\n",
    "css_styling()"
   ]
  },
  {
   "cell_type": "code",
   "execution_count": null,
   "metadata": {},
   "outputs": [],
   "source": []
  }
 ],
 "metadata": {
  "celltoolbar": "Tags",
  "hide_input": false,
  "kernelspec": {
   "display_name": "Python 3",
   "language": "python",
   "name": "python3"
  },
  "language_info": {
   "codemirror_mode": {
    "name": "ipython",
    "version": 3
   },
   "file_extension": ".py",
   "mimetype": "text/x-python",
   "name": "python",
   "nbconvert_exporter": "python",
   "pygments_lexer": "ipython3",
   "version": "3.7.3"
  },
  "latex_envs": {
   "LaTeX_envs_menu_present": true,
   "autoclose": false,
   "autocomplete": true,
   "bibliofile": "biblio.bib",
   "cite_by": "apalike",
   "current_citInitial": 1,
   "eqLabelWithNumbers": true,
   "eqNumInitial": 1,
   "hotkeys": {
    "equation": "Ctrl-E",
    "itemize": "Ctrl-I"
   },
   "labels_anchors": false,
   "latex_user_defs": false,
   "report_style_numbering": false,
   "user_envs_cfg": false
  }
 },
 "nbformat": 4,
 "nbformat_minor": 2
}
