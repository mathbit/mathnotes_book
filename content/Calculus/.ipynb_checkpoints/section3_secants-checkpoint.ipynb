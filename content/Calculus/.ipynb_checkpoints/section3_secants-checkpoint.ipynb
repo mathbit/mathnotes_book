{
 "cells": [
  {
   "cell_type": "code",
   "execution_count": 1,
   "metadata": {},
   "outputs": [
    {
     "data": {
      "text/plain": [
       "<matplotlib.rc_context at 0x7f874c1a8b00>"
      ]
     },
     "execution_count": 1,
     "metadata": {},
     "output_type": "execute_result"
    }
   ],
   "source": [
    "from ipywidgets import interactive, IntSlider, FloatSlider\n",
    "from IPython.display import display\n",
    "import matplotlib.pyplot as plt\n",
    "import numpy as np\n",
    "import bitlib as bit\n",
    "\n",
    "plt.xkcd()  # Yes..."
   ]
  },
  {
   "cell_type": "markdown",
   "metadata": {},
   "source": [
    "## Secants\n",
    "---\n",
    "\n"
   ]
  },
  {
   "cell_type": "markdown",
   "metadata": {},
   "source": [
    "### Exercise\n",
    "---\n",
    "Consider the graph of the function $f(x)=\\sqrt{x}$. Point $A(2\\vert \\sqrt{2})$ is on the graph. Determine, to a good precision, the slope of the tangent to the graph at $A$. \n",
    "\n",
    "Hint:  "
   ]
  },
  {
   "cell_type": "markdown",
   "metadata": {},
   "source": [
    "### Solution\n",
    "---\n",
    "You can give a an estimate of the slope of the tangent by determining the slope of the straight line that passes through the points $A$ and $B$ on the graph (a so called _secant_ of the graph). The closer $B$ is to $A$, the more parallel are the secant and the tangent, and the better is the estimate of the slope of the tangent. But note that with this method it is quite difficult to find the precise slope of the tangent. All we can do is finding better and better approximations, but these are still approximations (see graphs below)\n",
    "\n",
    "   Let us calculate the slope of the secant for $B$ with $x$-coordinate $1$. Thus, we have $B(1\\vert f(1)) = B(1\\vert 1)$. We choose\n",
    "   \n",
    "   $$\\nonumber \\Delta y = y_B-y_A = 1-\\sqrt{2}$$ \n",
    "   \n",
    "   $$\\nonumber \\Delta x = x_B-x_A = 1-2=-1$$\n",
    "   \n",
    "   and thus the slope is\n",
    "   \n",
    "   $$\\nonumber \\frac{\\Delta y}{\\Delta x} = \\frac{y_B-y_A}{x_B-x_A} = \\frac{1-\\sqrt{2}}{-1}=\\sqrt{2}-1 = 0.4142...$$"
   ]
  }
 ],
 "metadata": {
  "kernelspec": {
   "display_name": "Python 3",
   "language": "python",
   "name": "python3"
  },
  "language_info": {
   "codemirror_mode": {
    "name": "ipython",
    "version": 3
   },
   "file_extension": ".py",
   "mimetype": "text/x-python",
   "name": "python",
   "nbconvert_exporter": "python",
   "pygments_lexer": "ipython3",
   "version": "3.7.3"
  },
  "latex_envs": {
   "LaTeX_envs_menu_present": true,
   "autoclose": false,
   "autocomplete": true,
   "bibliofile": "biblio.bib",
   "cite_by": "apalike",
   "current_citInitial": 1,
   "eqLabelWithNumbers": true,
   "eqNumInitial": 1,
   "hotkeys": {
    "equation": "Ctrl-E",
    "itemize": "Ctrl-I"
   },
   "labels_anchors": false,
   "latex_user_defs": false,
   "report_style_numbering": false,
   "user_envs_cfg": false
  }
 },
 "nbformat": 4,
 "nbformat_minor": 2
}
